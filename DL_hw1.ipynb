{
 "cells": [
  {
   "cell_type": "code",
   "execution_count": 13,
   "metadata": {
    "collapsed": true
   },
   "outputs": [],
   "source": [
    "import pandas as pd\n",
    "import numpy as np\n",
    "\n",
    "from sklearn.ensemble import RandomForestClassifier\n",
    "from sklearn.svm import SVC\n",
    "from sklearn.preprocessing import LabelEncoder,OneHotEncoder\n",
    "from sklearn.linear_model import LogisticRegression\n",
    "from random import randrange"
   ]
  },
  {
   "cell_type": "code",
   "execution_count": 18,
   "metadata": {
    "collapsed": true
   },
   "outputs": [],
   "source": [
    "def cat2num(x):\n",
    "    if x == 'C': x = 0\n",
    "    elif x == 'Q': x = 1\n",
    "    else: x = 2\n",
    "    return x\n",
    "\n",
    "def split4cv(data4split, k = 3):  \n",
    "    k_folds = list() # k_folds = [fold1=[[X],[y]], fold2=[[X],[y]] ...]\n",
    "    fold_size = data4split.shape[0] / k \n",
    "    X,y = list(data4split.drop('Survived', axis=1).values), list(data4split['Survived'].values)\n",
    "    for i in range(k): # make k_folds list \n",
    "        fold = list()\n",
    "        tmp_X = list()\n",
    "        tmp_y = list()\n",
    "        while len(tmp_X) < fold_size:\n",
    "            index = randrange(len(X))  \n",
    "            tmp_X.append(X.pop(index))\n",
    "            tmp_y.append(y.pop(index))\n",
    "        fold.append([tmp_X,tmp_y])\n",
    "        k_folds.append(fold) \n",
    "    return k_folds, k\n",
    "  \n",
    "def cross_validation(data4cv, model=randomforest):\n",
    "    k_folds, k = split4cv(data4cv)\n",
    "    X, y = [k_folds[i][0][0] for i in range(k)], [k_folds[i][0][1] for i in range(k)]\n",
    "    # calculate empirical risk:\n",
    "    scores4train = []\n",
    "    scores4test  = []\n",
    "    for i in range(k):\n",
    "        X_train = np.concatenate([X[j] for j in range(k) if j != i])\n",
    "        y_train = np.concatenate([y[j] for j in range(k) if j != i])\n",
    "        X_test = X[i]\n",
    "        y_test = np.array(y[i])\n",
    "        model.fit(X_train, y_train)\n",
    "        # emprical risk on train set\n",
    "        y_pred = model.predict(X_train)\n",
    "        empirical_risk_train = np.sum((y_pred - y_train)**2)\n",
    "        scores4train.append(empirical_risk_train)\n",
    "        # empirical resk on test set\n",
    "        y_pred = model.predict(X_test)\n",
    "        empirical_risk_test = np.sum((y_pred - y_test)**2)\n",
    "        scores4test.append(empirical_risk_test)\n",
    "    print('Average Empirical Risk (TRAIN_SET): {}'.format(np.mean(np.array(scores4train))))\n",
    "    print('Average Empirical Risk (TEST_SET): {}'.format(np.mean(np.array(scores4test))))\n",
    "    return np.mean(np.array(scores4train)), np.mean(np.array(scores4test))"
   ]
  },
  {
   "cell_type": "code",
   "execution_count": 17,
   "metadata": {
    "collapsed": true
   },
   "outputs": [],
   "source": [
    "# Reading data\n",
    "train_set = pd.read_csv('datasets/titanic/train.csv', index_col = 'PassengerId')\n",
    "test_set = pd.read_csv('datasets/titanic/test.csv', index_col = 'PassengerId')\n",
    "\n",
    "''' Preprocessing dataset '''\n",
    "#Delete some feature\n",
    "train_set = train_set.drop(['Cabin', 'Ticket', 'Name'], axis=1)\n",
    "\n",
    "#Fill missed cells in 'Age'\n",
    "train_set['Age'].fillna(train_set['Age'].mean(), inplace=True)\n",
    "\n",
    "# Fill missed cells in 'Embarked'\n",
    "train_set['Embarked'] = train_set['Embarked'].apply(cat2num)\n",
    "\n",
    "# Encode categorical features to numerical\n",
    "label_encoder = LabelEncoder()\n",
    "label_encoder.fit(train_set['Sex'])\n",
    "train_set['Sex'] = label_encoder.transform(train_set['Sex'])"
   ]
  },
  {
   "cell_type": "code",
   "execution_count": 16,
   "metadata": {
    "collapsed": true
   },
   "outputs": [],
   "source": [
    "X = train_set.drop('Survived', axis=1).values\n",
    "y = train_set['Survived'].values"
   ]
  },
  {
   "cell_type": "code",
   "execution_count": 67,
   "metadata": {},
   "outputs": [],
   "source": [
    "# Creating Random Forest model\n",
    "randomforest = RandomForestClassifier(n_estimators = 1000, criterion ='gini',\n",
    "                               max_features = 'auto', min_samples_split=2, max_depth=15, random_state=42, n_jobs=-1)\n",
    "# Creating Logistic Regression model\n",
    "logreg = LogisticRegression(penalty='l2', solver='liblinear')"
   ]
  },
  {
   "cell_type": "code",
   "execution_count": 70,
   "metadata": {},
   "outputs": [
    {
     "name": "stdout",
     "output_type": "stream",
     "text": [
      "Average Empirical Risk using Logistic Regression model: \n",
      "Average Empirical Risk (TRAIN_SET): 118.0\n",
      "Average Empirical Risk (TEST_SET): 60.333333333333336\n"
     ]
    },
    {
     "data": {
      "text/plain": [
       "(118.0, 60.333333333333336)"
      ]
     },
     "execution_count": 70,
     "metadata": {},
     "output_type": "execute_result"
    }
   ],
   "source": [
    "print('Average Empirical Risk using Logistic Regression model: ')\n",
    "logreg.fit(X,y)\n",
    "cross_validation(train_set,model=logreg)"
   ]
  },
  {
   "cell_type": "code",
   "execution_count": 69,
   "metadata": {},
   "outputs": [
    {
     "name": "stdout",
     "output_type": "stream",
     "text": [
      "CROSS VALIDATION RESULT FOR DIFFERENT HYPERPARAMETERS: \n",
      "\n",
      "\n",
      "\n",
      "HYPERPARAMETERS:  n_estimators: 8 | max_depth:5 | min_samples_split: 2\n",
      "Average Empirical Risk (TRAIN_SET): 89.0\n",
      "Average Empirical Risk (TEST_SET): 55.666666666666664\n",
      "(89.0, 55.666666666666664)\n",
      "\n",
      "\n",
      "HYPERPARAMETERS:  n_estimators: 15 | max_depth:10 | min_samples_split: 2\n",
      "Average Empirical Risk (TRAIN_SET): 35.333333333333336\n",
      "Average Empirical Risk (TEST_SET): 52.666666666666664\n",
      "(35.333333333333336, 52.666666666666664)\n",
      "\n",
      "\n",
      "HYPERPARAMETERS:  n_estimators: 50 | max_depth:15 | min_samples_split: 3\n",
      "Average Empirical Risk (TRAIN_SET): 19.666666666666668\n",
      "Average Empirical Risk (TEST_SET): 54.333333333333336\n",
      "(19.666666666666668, 54.333333333333336)\n",
      "\n",
      "\n",
      "HYPERPARAMETERS:  n_estimators: 100 | max_depth:20 | min_samples_split: 3\n",
      "Average Empirical Risk (TRAIN_SET): 14.666666666666666\n",
      "Average Empirical Risk (TEST_SET): 57.666666666666664\n",
      "(14.666666666666666, 57.666666666666664)\n",
      "\n",
      "\n",
      "HYPERPARAMETERS:  n_estimators: 1000 | max_depth:35 | min_samples_split: 4\n",
      "Average Empirical Risk (TRAIN_SET): 27.0\n",
      "Average Empirical Risk (TEST_SET): 55.666666666666664\n",
      "(27.0, 55.666666666666664)\n",
      "\n",
      "\n"
     ]
    }
   ],
   "source": [
    "# Tuning the hyperparmeters\n",
    "n_forests = [8, 15, 50, 100, 1000] # n_estimators\n",
    "n_level   = [5, 10, 15, 20, 35]     # max_depth\n",
    "n_sample_coef = [2, 2, 3, 3, 4]\n",
    "print('CROSS VALIDATION RESULT FOR DIFFERENT HYPERPARAMETERS: ')\n",
    "print('\\n\\n')\n",
    "for i in range(len(n_level)):\n",
    "    randomforest = RandomForestClassifier(n_estimators = n_forests[i], criterion ='gini',\n",
    "                               max_features = 'auto', min_samples_split=n_sample_coef[i], max_depth=n_level[i], random_state=42, n_jobs=-1)\n",
    "    print('HYPERPARAMETERS: ', 'n_estimators: ' + str(n_forests[i]),'|', 'max_depth:' \\\n",
    "          + str(n_level[i]), '|','min_samples_split: ' + str(n_sample_coef[i]))\n",
    "    print(str(cross_validation(data4cv=train_set, model=randomforest)))\n",
    "    print('\\n')"
   ]
  },
  {
   "cell_type": "markdown",
   "metadata": {},
   "source": [
    "** In this case (titanic dataset) the best result was recieved using Random Forest model (with hyperparameter about 15-20 for max_depth and 1000 forests number). Validations of models were compared by cross validation method (k = 3 - number of subsamples group)**"
   ]
  }
 ],
 "metadata": {
  "kernelspec": {
   "display_name": "Python 3",
   "language": "python",
   "name": "python3"
  },
  "language_info": {
   "codemirror_mode": {
    "name": "ipython",
    "version": 3
   },
   "file_extension": ".py",
   "mimetype": "text/x-python",
   "name": "python",
   "nbconvert_exporter": "python",
   "pygments_lexer": "ipython3",
   "version": "3.6.3"
  }
 },
 "nbformat": 4,
 "nbformat_minor": 2
}
