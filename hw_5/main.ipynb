{
 "cells": [
  {
   "cell_type": "code",
   "execution_count": 1,
   "metadata": {
    "collapsed": true
   },
   "outputs": [],
   "source": [
    "from sanic import Sanic\n",
    "from sanic.response import json, text\n",
    "import spacy"
   ]
  },
  {
   "cell_type": "code",
   "execution_count": null,
   "metadata": {},
   "outputs": [
    {
     "name": "stdout",
     "output_type": "stream",
     "text": [
      "[2018-04-04 14:02:33 +0300] [8774] [INFO] Goin' Fast @ http://0.0.0.0:8000\n",
      "[2018-04-04 14:02:33 +0300] [8774] [INFO] Starting worker [8774]\n",
      "[2018-04-04 14:02:49 +0300] - (sanic.access)[INFO][1:2]: POST http://0.0.0.0:8000/post  200 122\n"
     ]
    }
   ],
   "source": [
    "app = Sanic()\n",
    "\n",
    "@app.route(\"/\")\n",
    "async def test(request):\n",
    "    return json({\"hello\": \"world\"})\n",
    "\n",
    "@app.route('/post' , methods=['POST'])\n",
    "async def post_handler(request): \n",
    "    nlp = spacy.load('en')\n",
    "    \n",
    "    '''получаем сущности'''\n",
    "    entitities = nlp(u'{}'.format(request.json)).ents\n",
    "    \n",
    "    ''' извлекаем из каждой необходимые данные'''\n",
    "    text  = [ent.text for ent in entitities]\n",
    "    label = [ent.label_ for ent in entitities]\n",
    "    start = [ent.start_char for ent in entitities]\n",
    "    end   = [ent.end_char for ent in entitities] \n",
    "    \n",
    "    ''' возвращаем json '''\n",
    "    return json({'Entitities: (text:{}, type:{}, start:{}, end:{})'.format(text, label, start, end)})\n",
    "\n",
    "if __name__ == \"__main__\":\n",
    "    app.run(host=\"0.0.0.0\", port=8000)\n",
    "    "
   ]
  }
 ],
 "metadata": {
  "kernelspec": {
   "display_name": "Python 3",
   "language": "python",
   "name": "python3"
  },
  "language_info": {
   "codemirror_mode": {
    "name": "ipython",
    "version": 3
   },
   "file_extension": ".py",
   "mimetype": "text/x-python",
   "name": "python",
   "nbconvert_exporter": "python",
   "pygments_lexer": "ipython3",
   "version": "3.6.3"
  }
 },
 "nbformat": 4,
 "nbformat_minor": 2
}
