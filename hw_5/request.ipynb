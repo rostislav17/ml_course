{
 "cells": [
  {
   "cell_type": "code",
   "execution_count": 227,
   "metadata": {},
   "outputs": [
    {
     "name": "stdout",
     "output_type": "stream",
     "text": [
      "<Response [200]>\n",
      "[\"Entitities: (text:['Apple', 'U.K.', '$1 billion'], type:['ORG', 'GPE', 'MONEY'], start:[10, 37, 54], end:[15, 41, 64])\"]\n"
     ]
    }
   ],
   "source": [
    "import requests\n",
    "import json\n",
    "mydata = 'Apple is looking at buying U.K. startup for $1 billion'\n",
    "request = requests.post(url='http://0.0.0.0:8000/post', json = {'text':mydata})\n",
    "print(request, request.text, sep='\\n')"
   ]
  }
 ],
 "metadata": {
  "kernelspec": {
   "display_name": "Python 3",
   "language": "python",
   "name": "python3"
  },
  "language_info": {
   "codemirror_mode": {
    "name": "ipython",
    "version": 3
   },
   "file_extension": ".py",
   "mimetype": "text/x-python",
   "name": "python",
   "nbconvert_exporter": "python",
   "pygments_lexer": "ipython3",
   "version": "3.6.3"
  }
 },
 "nbformat": 4,
 "nbformat_minor": 2
}
