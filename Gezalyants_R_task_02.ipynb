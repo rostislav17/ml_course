{
 "cells": [
  {
   "cell_type": "code",
   "execution_count": 48,
   "metadata": {
    "collapsed": true
   },
   "outputs": [],
   "source": [
    "import pandas as pd"
   ]
  },
  {
   "cell_type": "code",
   "execution_count": 49,
   "metadata": {
    "collapsed": true
   },
   "outputs": [],
   "source": [
    "data = pd.read_csv('titanic.csv', index_col='PassengerId')"
   ]
  },
  {
   "cell_type": "code",
   "execution_count": 65,
   "metadata": {},
   "outputs": [
    {
     "name": "stdout",
     "output_type": "stream",
     "text": [
      "Количество мужчин и женщин соотвественно: 577, 314\n"
     ]
    }
   ],
   "source": [
    "# 1. Кол-во м и ж на корабле?\n",
    "males = data['Sex'].value_counts()[0]\n",
    "females = data['Sex'].value_counts()[1]\n",
    "print('Количество мужчин и женщин соотвественно: '\n",
    "      + str(males) + ', ' + str(females))"
   ]
  },
  {
   "cell_type": "code",
   "execution_count": 112,
   "metadata": {},
   "outputs": [
    {
     "name": "stdout",
     "output_type": "stream",
     "text": [
      "Процент выжывших: 38.38\n"
     ]
    }
   ],
   "source": [
    "# 2. % выживших ?\n",
    "people = 891\n",
    "survivors = data[data['Survived'] == 1]['Survived'].value_counts().iloc[0]\n",
    "print('Процент выживших: '+ str(round((survivors/people)*100,2)))"
   ]
  },
  {
   "cell_type": "code",
   "execution_count": 124,
   "metadata": {},
   "outputs": [
    {
     "name": "stdout",
     "output_type": "stream",
     "text": [
      "Процент людей из первого класса:  24.24\n"
     ]
    }
   ],
   "source": [
    "# 3. % пассажиров первого класса ?\n",
    "first_class = data[data['Pclass'] == 1]['Pclass'].value_counts().iloc[0]\n",
    "print('Процент людей из первого класса: ',round(first_class*100/people,2))"
   ]
  },
  {
   "cell_type": "code",
   "execution_count": 138,
   "metadata": {},
   "outputs": [
    {
     "name": "stdout",
     "output_type": "stream",
     "text": [
      "Среднее и медиана возраста пассажиров соответственно: 29.7, 28.0\n"
     ]
    }
   ],
   "source": [
    "# 4. Найти среднее и медиану возраста пассажиров\n",
    "mean = data['Age'].mean()\n",
    "median = data['Age'].median()\n",
    "print('Среднее и медиана возраста пассажиров соответственно: ' \n",
    "      + str(round(mean,2)) + ', ' +str(round(median,2)))"
   ]
  },
  {
   "cell_type": "code",
   "execution_count": 304,
   "metadata": {},
   "outputs": [
    {
     "name": "stdout",
     "output_type": "stream",
     "text": [
      "Корреляция Пирсона между SibSp и Parch: 0.41\n"
     ]
    }
   ],
   "source": [
    "# 5. Значение корреляции Пирсона между SibSp и Parch\n",
    "print('Корреляция Пирсона между SibSp и Parch: ' + \n",
    "      str(round(data['SibSp'].corr(data['Parch']),2)))"
   ]
  },
  {
   "cell_type": "code",
   "execution_count": 299,
   "metadata": {},
   "outputs": [
    {
     "name": "stdout",
     "output_type": "stream",
     "text": [
      "Самое популярное имя: Anna\n"
     ]
    }
   ],
   "source": [
    "# 6. Самое популярное имя на корабле?\n",
    "import re\n",
    "female_names = [el for el in data[data['Sex'] == 'female']['Name']]\n",
    "bracket = r'\\(\\w+'\n",
    "mrs = [re.findall(bracket,el) for el in female_names if re.findall(bracket,el) != [] ]\n",
    "mrs = [el[0][1:] for el in mrs]\n",
    "miss = [el.split(' ')[(el.split(' ').index('Miss.'))+1] \n",
    "        for el in female_names if ('Miss.' in female_names[female_names.index(el)])]\n",
    "female_names.clear()\n",
    "female_names = miss + mrs\n",
    "counts = []\n",
    "for el in female_names:\n",
    "    counts.append(female_names.count(el))\n",
    "index = counts.index(max(counts))\n",
    "print('Самое популярное имя: ' + str(female_names[index]))"
   ]
  }
 ],
 "metadata": {
  "kernelspec": {
   "display_name": "Python 3",
   "language": "python",
   "name": "python3"
  },
  "language_info": {
   "codemirror_mode": {
    "name": "ipython",
    "version": 3
   },
   "file_extension": ".py",
   "mimetype": "text/x-python",
   "name": "python",
   "nbconvert_exporter": "python",
   "pygments_lexer": "ipython3",
   "version": "3.6.3"
  }
 },
 "nbformat": 4,
 "nbformat_minor": 2
}
