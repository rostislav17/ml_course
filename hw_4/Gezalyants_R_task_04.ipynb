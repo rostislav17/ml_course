{
 "cells": [
  {
   "cell_type": "code",
   "execution_count": 1,
   "metadata": {
    "collapsed": true
   },
   "outputs": [],
   "source": [
    "import requests\n",
    "from bs4 import BeautifulSoup\n",
    "import codecs\n",
    "import time\n",
    "import re\n",
    "import pandas as pd\n",
    "import numpy as np"
   ]
  },
  {
   "cell_type": "code",
   "execution_count": 2,
   "metadata": {
    "collapsed": true
   },
   "outputs": [],
   "source": [
    "headers = {\n",
    "    'User-Agent': 'Mozilla/5.0 (X11; Linux x86_64) AppleWebKit/537.36 (KHTML, like Gecko) Chrome/62.0.3202.94 Safari/537.36'\n",
    "    }\n",
    "# необзодимые url'ы (25 штук)\n",
    "urls = (('https://rateyourmusic.com/customchart?page=%s '*25 % (tuple(map(str,range(1,26))))).split(' '))[:-1]"
   ]
  },
  {
   "cell_type": "code",
   "execution_count": 3,
   "metadata": {
    "scrolled": true
   },
   "outputs": [
    {
     "data": {
      "text/plain": [
       "\"\\n# получаем html + записываем в файл\\ndef get_html(url,file_name,h = headers):\\n    #отправляем get запрос\\n    r = requests.get(url,headers = h)\\n    #записываем html в файл\\n    with open(file_name, 'w') as data:\\n        data.write(r.text)\\n        \\n# в цикле сохраняем 40 html страниц\\nfor i in range(39,40):\\n    get_html(urls[i],files_name[i])\\n    time.sleep(1)\\n\""
      ]
     },
     "execution_count": 3,
     "metadata": {},
     "output_type": "execute_result"
    }
   ],
   "source": [
    "files_name = [('page_' + str(i) + '.html') for i in range (1,26)]\n",
    "\n",
    "'''\n",
    "# получаем html + записываем в файл\n",
    "def get_html(url,file_name,h = headers):\n",
    "    #отправляем get запрос\n",
    "    r = requests.get(url,headers = h)\n",
    "    #записываем html в файл\n",
    "    with open(file_name, 'w') as data:\n",
    "        data.write(r.text)\n",
    "        \n",
    "# в цикле сохраняем 40 html страниц\n",
    "for i in range(39,40):\n",
    "    get_html(urls[i],files_name[i])\n",
    "    time.sleep(1)\n",
    "'''"
   ]
  },
  {
   "cell_type": "code",
   "execution_count": 132,
   "metadata": {
    "collapsed": true
   },
   "outputs": [],
   "source": [
    "# чистим sats\n",
    "def get_stats(*stats):\n",
    "    rym_rating = np.array([re.findall(r'\\d\\.\\d+', stats[i][0])[0] for i in range(40)], dtype=float)\n",
    "    \n",
    "    rating1     = np.array([re.findall(r'[0-9,]+', stats[i][1])[0] for i in range(40)],dtype = str)\n",
    "    rating     = np.array([float(re.sub(',','.',rate))*1000  if ',' in str(rate) else float(rate) for rate in rating1])\n",
    "\n",
    "    review     = np.array([re.sub(',','',re.findall(r'[0-9,]+', stats[i][2])[0]) for i in range(40)],dtype=float) \n",
    "    return rym_rating,rating,review\n",
    "\n",
    "# парсим\n",
    "def data_mining(page_name):\n",
    "    f = open(page_name, 'r')\n",
    "    html = f.read()\n",
    "    soup = BeautifulSoup(html, features ='lxml') \n",
    "    \n",
    "    # content - контейнер с нашими данными\n",
    "    content =  soup.find('table',{'class' : 'mbgen'})\n",
    "    # в 'chart-detail' - название группы, альбома; 'chart-stats'  - статистика + мусор какой-то\n",
    "    items  = content.find_all('div',{'class' : ['chart_detail', 'chart_stats']})\n",
    "    \n",
    "    # исполнитель\n",
    "    singer = np.array([items[i].find('a',{'class' : 'artist'}).text for i in range(0,80,2)],dtype='str')\n",
    "    album  = np.array([items[i].find('a',{'class' : 'album' }).text for i in range(0,80,2)],dtype='str')\n",
    "    # рейтинг\n",
    "    stats = [items[i].find('a').text.split('             ') for i in range(1,80,2)]\n",
    "    # результат get_stats\n",
    "    rym_rating, rating, review = np.array(get_stats(*stats)[0]), np.array(get_stats(*stats)[1]), np.array(get_stats(*stats)[2])\n",
    "    # добавляем полngученные значения в словарь\n",
    "    library['singer'].append(singer)\n",
    "    library['album'].append(album)\n",
    "    library['rym_rating'].append(rym_rating)\n",
    "    library['rating'].append(rating)\n",
    "    library['review'].append(review)\n",
    "def all_pages():\n",
    "    # парсим 25 страниц\n",
    "    [data_mining(i) for i in files_name]\n",
    "    # соединяем value\n",
    "    for el in library:\n",
    "        library[el] = np.concatenate(library[el])"
   ]
  },
  {
   "cell_type": "code",
   "execution_count": 136,
   "metadata": {},
   "outputs": [],
   "source": [
    "library = {'singer': [], 'album' : [],'rym_rating' : [], 'rating' : [], 'review' : []}\n",
    "all_pages()"
   ]
  },
  {
   "cell_type": "code",
   "execution_count": 138,
   "metadata": {
    "collapsed": true
   },
   "outputs": [],
   "source": [
    "data = pd.DataFrame(library)\n",
    "# меняем порядок столбцов\n",
    "data = data[['singer','album','rym_rating','rating','review',]]\n",
    "# сохраняем наш DataFrame в data.csv\n",
    "data.to_csv('data.csv', sep='\\t', encoding='utf-8')"
   ]
  },
  {
   "cell_type": "code",
   "execution_count": 233,
   "metadata": {},
   "outputs": [
    {
     "data": {
      "text/html": [
       "<div>\n",
       "<style>\n",
       "    .dataframe thead tr:only-child th {\n",
       "        text-align: right;\n",
       "    }\n",
       "\n",
       "    .dataframe thead th {\n",
       "        text-align: left;\n",
       "    }\n",
       "\n",
       "    .dataframe tbody tr th {\n",
       "        vertical-align: top;\n",
       "    }\n",
       "</style>\n",
       "<table border=\"1\" class=\"dataframe\">\n",
       "  <thead>\n",
       "    <tr style=\"text-align: right;\">\n",
       "      <th></th>\n",
       "      <th>singer</th>\n",
       "      <th>album</th>\n",
       "      <th>rym_rating</th>\n",
       "      <th>rating</th>\n",
       "      <th>review</th>\n",
       "    </tr>\n",
       "  </thead>\n",
       "  <tbody>\n",
       "    <tr>\n",
       "      <th>0</th>\n",
       "      <td>Radiohead</td>\n",
       "      <td>OK Computer</td>\n",
       "      <td>4.23</td>\n",
       "      <td>41673.0</td>\n",
       "      <td>2202.0</td>\n",
       "    </tr>\n",
       "    <tr>\n",
       "      <th>1</th>\n",
       "      <td>Pink Floyd</td>\n",
       "      <td>The Dark Side of the Moon</td>\n",
       "      <td>4.23</td>\n",
       "      <td>35458.0</td>\n",
       "      <td>1847.0</td>\n",
       "    </tr>\n",
       "    <tr>\n",
       "      <th>2</th>\n",
       "      <td>The Velvet Underground</td>\n",
       "      <td>The Velvet Underground &amp; Nico</td>\n",
       "      <td>4.29</td>\n",
       "      <td>27824.0</td>\n",
       "      <td>1203.0</td>\n",
       "    </tr>\n",
       "    <tr>\n",
       "      <th>3</th>\n",
       "      <td>Radiohead</td>\n",
       "      <td>Kid A</td>\n",
       "      <td>4.19</td>\n",
       "      <td>34019.0</td>\n",
       "      <td>1304.0</td>\n",
       "    </tr>\n",
       "    <tr>\n",
       "      <th>4</th>\n",
       "      <td>Pink Floyd</td>\n",
       "      <td>Wish You Were Here</td>\n",
       "      <td>4.27</td>\n",
       "      <td>28795.0</td>\n",
       "      <td>1130.0</td>\n",
       "    </tr>\n",
       "  </tbody>\n",
       "</table>\n",
       "</div>"
      ],
      "text/plain": [
       "                   singer                          album  rym_rating   rating  \\\n",
       "0               Radiohead                    OK Computer        4.23  41673.0   \n",
       "1              Pink Floyd      The Dark Side of the Moon        4.23  35458.0   \n",
       "2  The Velvet Underground  The Velvet Underground & Nico        4.29  27824.0   \n",
       "3               Radiohead                          Kid A        4.19  34019.0   \n",
       "4              Pink Floyd             Wish You Were Here        4.27  28795.0   \n",
       "\n",
       "   review  \n",
       "0  2202.0  \n",
       "1  1847.0  \n",
       "2  1203.0  \n",
       "3  1304.0  \n",
       "4  1130.0  "
      ]
     },
     "execution_count": 233,
     "metadata": {},
     "output_type": "execute_result"
    }
   ],
   "source": [
    "data.head(5)"
   ]
  },
  {
   "cell_type": "markdown",
   "metadata": {},
   "source": [
    "## TOП 1 по количеству упоминаний"
   ]
  },
  {
   "cell_type": "code",
   "execution_count": 216,
   "metadata": {},
   "outputs": [
    {
     "data": {
      "text/plain": [
       "'Miles Davis'"
      ]
     },
     "execution_count": 216,
     "metadata": {},
     "output_type": "execute_result"
    }
   ],
   "source": [
    "top1 = data['singer'].value_counts().idxmax()\n",
    "top1"
   ]
  },
  {
   "cell_type": "markdown",
   "metadata": {},
   "source": [
    "## ТОП 10 по количеству проголосовавших"
   ]
  },
  {
   "cell_type": "code",
   "execution_count": 239,
   "metadata": {},
   "outputs": [],
   "source": [
    "# common = [[unique_singer1,common_rate1],[unique_singer2, common_rate2],...]\n",
    "rate_and_singer = [[el,sum(data[data['singer'] == el]['rating'].tolist())] for el in set(data['singer'])]\n",
    "# сделаем словарь и из него DataFrame\n",
    "top2 = {'singer':[el[0] for el in rate_and_singer],\n",
    "              'singer_rate':[el[1] for el in rate_and_singer]}\n",
    "top2_df = pd.DataFrame(top_rating)\n",
    "# отсортируем по singer_rate наш DataFrame top_df\n",
    "top2_df = top_df.sort_values(by='singer_rate',ascending=False)\n",
    "#print(top_df.loc['singer','singer_rate'].head(10))"
   ]
  },
  {
   "cell_type": "code",
   "execution_count": 240,
   "metadata": {},
   "outputs": [
    {
     "data": {
      "text/html": [
       "<div>\n",
       "<style>\n",
       "    .dataframe thead tr:only-child th {\n",
       "        text-align: right;\n",
       "    }\n",
       "\n",
       "    .dataframe thead th {\n",
       "        text-align: left;\n",
       "    }\n",
       "\n",
       "    .dataframe tbody tr th {\n",
       "        vertical-align: top;\n",
       "    }\n",
       "</style>\n",
       "<table border=\"1\" class=\"dataframe\">\n",
       "  <thead>\n",
       "    <tr style=\"text-align: right;\">\n",
       "      <th></th>\n",
       "      <th>singer</th>\n",
       "      <th>singer_rate</th>\n",
       "    </tr>\n",
       "  </thead>\n",
       "  <tbody>\n",
       "    <tr>\n",
       "      <th>52</th>\n",
       "      <td>Radiohead</td>\n",
       "      <td>188430.0</td>\n",
       "    </tr>\n",
       "    <tr>\n",
       "      <th>487</th>\n",
       "      <td>The Beatles</td>\n",
       "      <td>182181.0</td>\n",
       "    </tr>\n",
       "    <tr>\n",
       "      <th>131</th>\n",
       "      <td>Pink Floyd</td>\n",
       "      <td>155550.0</td>\n",
       "    </tr>\n",
       "    <tr>\n",
       "      <th>409</th>\n",
       "      <td>David Bowie</td>\n",
       "      <td>114193.0</td>\n",
       "    </tr>\n",
       "    <tr>\n",
       "      <th>65</th>\n",
       "      <td>Led Zeppelin</td>\n",
       "      <td>104991.0</td>\n",
       "    </tr>\n",
       "    <tr>\n",
       "      <th>413</th>\n",
       "      <td>Bob Dylan</td>\n",
       "      <td>98562.0</td>\n",
       "    </tr>\n",
       "    <tr>\n",
       "      <th>287</th>\n",
       "      <td>Black Sabbath</td>\n",
       "      <td>86508.0</td>\n",
       "    </tr>\n",
       "    <tr>\n",
       "      <th>48</th>\n",
       "      <td>The Velvet Underground</td>\n",
       "      <td>67800.0</td>\n",
       "    </tr>\n",
       "    <tr>\n",
       "      <th>139</th>\n",
       "      <td>Metallica</td>\n",
       "      <td>67210.0</td>\n",
       "    </tr>\n",
       "    <tr>\n",
       "      <th>35</th>\n",
       "      <td>Miles Davis</td>\n",
       "      <td>65662.0</td>\n",
       "    </tr>\n",
       "  </tbody>\n",
       "</table>\n",
       "</div>"
      ],
      "text/plain": [
       "                     singer  singer_rate\n",
       "52                Radiohead     188430.0\n",
       "487             The Beatles     182181.0\n",
       "131              Pink Floyd     155550.0\n",
       "409             David Bowie     114193.0\n",
       "65             Led Zeppelin     104991.0\n",
       "413               Bob Dylan      98562.0\n",
       "287           Black Sabbath      86508.0\n",
       "48   The Velvet Underground      67800.0\n",
       "139               Metallica      67210.0\n",
       "35              Miles Davis      65662.0"
      ]
     },
     "execution_count": 240,
     "metadata": {},
     "output_type": "execute_result"
    }
   ],
   "source": [
    "top2 = top2_df.loc[:,['singer','singer_rate']].head(10)\n",
    "top2"
   ]
  },
  {
   "cell_type": "markdown",
   "metadata": {},
   "source": [
    "## ТОП 10 исполнителей с самой высокой средней оценкой"
   ]
  },
  {
   "cell_type": "code",
   "execution_count": 251,
   "metadata": {},
   "outputs": [],
   "source": [
    "singer_and_rym = [[el, data[data['singer'] == el]['rym_rating'].mean()] for el in set(data['singer'])]\n",
    "top3 = {'singer':[el[0] for el in singer_and_rym],\n",
    "                   'average_rym':[el[1] for el in singer_and_rym]}\n",
    "top3_df = pd.DataFrame(top3).sort_values(by='average_rym', ascending=False)"
   ]
  },
  {
   "cell_type": "code",
   "execution_count": 252,
   "metadata": {},
   "outputs": [
    {
     "data": {
      "text/html": [
       "<div>\n",
       "<style>\n",
       "    .dataframe thead tr:only-child th {\n",
       "        text-align: right;\n",
       "    }\n",
       "\n",
       "    .dataframe thead th {\n",
       "        text-align: left;\n",
       "    }\n",
       "\n",
       "    .dataframe tbody tr th {\n",
       "        vertical-align: top;\n",
       "    }\n",
       "</style>\n",
       "<table border=\"1\" class=\"dataframe\">\n",
       "  <thead>\n",
       "    <tr style=\"text-align: right;\">\n",
       "      <th></th>\n",
       "      <th>average_rym</th>\n",
       "      <th>singer</th>\n",
       "    </tr>\n",
       "  </thead>\n",
       "  <tbody>\n",
       "    <tr>\n",
       "      <th>477</th>\n",
       "      <td>4.350000</td>\n",
       "      <td>Mingus</td>\n",
       "    </tr>\n",
       "    <tr>\n",
       "      <th>394</th>\n",
       "      <td>4.210000</td>\n",
       "      <td>The Beach Boys</td>\n",
       "    </tr>\n",
       "    <tr>\n",
       "      <th>152</th>\n",
       "      <td>4.180000</td>\n",
       "      <td>Television</td>\n",
       "    </tr>\n",
       "    <tr>\n",
       "      <th>323</th>\n",
       "      <td>4.180000</td>\n",
       "      <td>Wu-Tang Clan</td>\n",
       "    </tr>\n",
       "    <tr>\n",
       "      <th>206</th>\n",
       "      <td>4.180000</td>\n",
       "      <td>Nas</td>\n",
       "    </tr>\n",
       "    <tr>\n",
       "      <th>155</th>\n",
       "      <td>4.130000</td>\n",
       "      <td>Godspeed You Black Emperor!</td>\n",
       "    </tr>\n",
       "    <tr>\n",
       "      <th>243</th>\n",
       "      <td>4.130000</td>\n",
       "      <td>Madvillain</td>\n",
       "    </tr>\n",
       "    <tr>\n",
       "      <th>353</th>\n",
       "      <td>4.123333</td>\n",
       "      <td>The Jimi Hendrix Experience</td>\n",
       "    </tr>\n",
       "    <tr>\n",
       "      <th>17</th>\n",
       "      <td>4.120000</td>\n",
       "      <td>Genius/GZA</td>\n",
       "    </tr>\n",
       "    <tr>\n",
       "      <th>178</th>\n",
       "      <td>4.120000</td>\n",
       "      <td>Joy Division</td>\n",
       "    </tr>\n",
       "  </tbody>\n",
       "</table>\n",
       "</div>"
      ],
      "text/plain": [
       "     average_rym                       singer\n",
       "477     4.350000                       Mingus\n",
       "394     4.210000               The Beach Boys\n",
       "152     4.180000                   Television\n",
       "323     4.180000                 Wu-Tang Clan\n",
       "206     4.180000                          Nas\n",
       "155     4.130000  Godspeed You Black Emperor!\n",
       "243     4.130000                   Madvillain\n",
       "353     4.123333  The Jimi Hendrix Experience\n",
       "17      4.120000                   Genius/GZA\n",
       "178     4.120000                 Joy Division"
      ]
     },
     "execution_count": 252,
     "metadata": {},
     "output_type": "execute_result"
    }
   ],
   "source": [
    "top3_df.head(10)"
   ]
  }
 ],
 "metadata": {
  "kernelspec": {
   "display_name": "Python 3",
   "language": "python",
   "name": "python3"
  },
  "language_info": {
   "codemirror_mode": {
    "name": "ipython",
    "version": 3
   },
   "file_extension": ".py",
   "mimetype": "text/x-python",
   "name": "python",
   "nbconvert_exporter": "python",
   "pygments_lexer": "ipython3",
   "version": "3.6.3"
  }
 },
 "nbformat": 4,
 "nbformat_minor": 2
}
